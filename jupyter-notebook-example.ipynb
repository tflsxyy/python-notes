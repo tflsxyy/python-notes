{
 "cells": [
  {
   "cell_type": "code",
   "execution_count": 1,
   "id": "87b4fae1",
   "metadata": {},
   "outputs": [
    {
     "name": "stdout",
     "output_type": "stream",
     "text": [
      "Hello World!\n"
     ]
    }
   ],
   "source": [
    "print(\"Hello World!\")"
   ]
  },
  {
   "cell_type": "markdown",
   "id": "9e11789c",
   "metadata": {},
   "source": [
    "# 一级标题\n",
    "## 二级标题\n",
    "### 三级标题\n",
    "#### 四级标题\n",
    "##### 五级标题"
   ]
  },
  {
   "cell_type": "markdown",
   "id": "450d1465",
   "metadata": {},
   "source": [
    "<div class=\"alert alert-block alert-info\"> \n",
    "这是浅蓝色\n",
    "</div>\n",
    "\n",
    "<div class=\"alert alert-block alert-danger\">  \n",
    "这是浅粉色（danger）！！！\n",
    "</div>\n",
    "\n",
    "<div class=\"alert alert-block alert-success\"> \n",
    "这是浅绿色\n",
    "</div>\n",
    "\n",
    "<div class=\"alert alert-block alert-warning\">\n",
    "这是浅黄色\n",
    "</div>"
   ]
  },
  {
   "cell_type": "code",
   "execution_count": 2,
   "id": "fe306faa",
   "metadata": {},
   "outputs": [],
   "source": [
    "from IPython.core.interactiveshell import InteractiveShell\n",
    "InteractiveShell.ast_node_interactivity = \"all\"\n",
    "\n",
    "InteractiveShell.ast_node_interactivity = \"last_expr\"  # 恢复输出最后一行"
   ]
  },
  {
   "cell_type": "code",
   "execution_count": 3,
   "id": "35cfe7fa",
   "metadata": {},
   "outputs": [],
   "source": [
    "import os"
   ]
  },
  {
   "cell_type": "code",
   "execution_count": 7,
   "id": "0e6cad1b",
   "metadata": {},
   "outputs": [
    {
     "data": {
      "text/plain": [
       "0"
      ]
     },
     "execution_count": 7,
     "metadata": {},
     "output_type": "execute_result"
    }
   ],
   "source": [
    "os.system(\"pwd\")"
   ]
  },
  {
   "cell_type": "code",
   "execution_count": 10,
   "id": "a3d42a9d",
   "metadata": {},
   "outputs": [
    {
     "data": {
      "text/plain": [
       "'/Users/yanyue/.rvm/gems/ruby-2.7.2/bin:/Users/yanyue/.rvm/gems/ruby-2.7.2@global/bin:/Users/yanyue/.rvm/rubies/ruby-2.7.2/bin:/Users/yanyue/opt/anaconda3/bin:/Users/yanyue/opt/anaconda3/condabin:/usr/local/opt/llvm/bin:/usr/local/bin:/usr/bin:/bin:/usr/sbin:/sbin:/Applications/VMware Fusion.app/Contents/Public:/Library/TeX/texbin:/opt/X11/bin:/Library/Apple/usr/bin:/Applications/Wireshark.app/Contents/MacOS:/Users/yanyue/.rvm/bin'"
      ]
     },
     "execution_count": 10,
     "metadata": {},
     "output_type": "execute_result"
    }
   ],
   "source": [
    "os.environ[\"PATH\"]"
   ]
  },
  {
   "cell_type": "code",
   "execution_count": 14,
   "id": "49396c46",
   "metadata": {},
   "outputs": [
    {
     "data": {
      "text/plain": [
       "'/Users/yanyue/workspace/python/python-notes'"
      ]
     },
     "execution_count": 14,
     "metadata": {},
     "output_type": "execute_result"
    }
   ],
   "source": [
    "pwd"
   ]
  },
  {
   "cell_type": "code",
   "execution_count": 16,
   "id": "08fb80bc",
   "metadata": {},
   "outputs": [
    {
     "name": "stdout",
     "output_type": "stream",
     "text": [
      "README.md\r\n",
      "Week0-Python-Intro.md\r\n",
      "Week1-Python-Install.md\r\n",
      "Week2-Coding-Style.md\r\n",
      "Week2-Variables-Arithmetic-Operators.md\r\n",
      "cheatsheet.md\r\n",
      "example.py\r\n",
      "example_py2.py\r\n",
      "jupyter-notebook-example.ipynb\r\n",
      "第01课：初识Python.md\r\n",
      "第02课：第一个Python程序.md\r\n",
      "第03课：Python语言元素之变量.md\r\n",
      "第04课：Python语言元素之运算符.md\r\n",
      "第05课：分支结构.md\r\n",
      "第06课：循环结构.md\r\n",
      "第07课：分支和循环结构的应用.md\r\n",
      "第08课：常用数据结构之列表.md\r\n",
      "第09课：常用数据结构之元组.md\r\n",
      "第10课：常用数据结构之字符串.md\r\n",
      "第11课：常用数据结构之集合.md\r\n",
      "第12课：常用数据结构之字典.md\r\n",
      "第13课：函数和模块.md\r\n",
      "第14课：函数的应用.md\r\n",
      "第15课：函数使用进阶.md\r\n",
      "第16课：函数的高级应用.md\r\n",
      "第17课：面向对象编程入门.md\r\n",
      "第18课：面向对象编程进阶.md\r\n",
      "第19课：面向对象编程应用.md\r\n",
      "第20课：Python标准库初探.md\r\n",
      "第21课：文件读写和异常处理.md\r\n",
      "第22课：对象的序列化和反序列化.md\r\n",
      "第23课：用Python读写CSV文件.md\r\n",
      "第24课：用Python读写Excel文件-1.md\r\n",
      "第25课：用Python读写Excel文件-2.md\r\n",
      "第26课：用Python操作Word文件和PowerPoint.md\r\n",
      "第27课：用Python操作PDF文件.md\r\n",
      "第28课：用Python处理图像.md\r\n",
      "第29课：用Python发送邮件和短信.md\r\n",
      "第30课：正则表达式的应用.md\r\n",
      "第31课：网络数据采集概述.md\r\n",
      "第32课：用Python获取网络资源.md\r\n",
      "第33课：用Python解析HTML页面.md\r\n",
      "第34课：Python中的并发编程-1.md\r\n",
      "第35课：Python中的并发编程-2.md\r\n",
      "第36课：Python中的并发编程-3.md\r\n",
      "第37课：并发编程在爬虫中的应用.md\r\n"
     ]
    }
   ],
   "source": [
    "ls"
   ]
  },
  {
   "cell_type": "code",
   "execution_count": null,
   "id": "239c567f",
   "metadata": {},
   "outputs": [],
   "source": []
  }
 ],
 "metadata": {
  "kernelspec": {
   "display_name": "Python 3 (ipykernel)",
   "language": "python",
   "name": "python3"
  },
  "language_info": {
   "codemirror_mode": {
    "name": "ipython",
    "version": 3
   },
   "file_extension": ".py",
   "mimetype": "text/x-python",
   "name": "python",
   "nbconvert_exporter": "python",
   "pygments_lexer": "ipython3",
   "version": "3.9.7"
  }
 },
 "nbformat": 4,
 "nbformat_minor": 5
}
