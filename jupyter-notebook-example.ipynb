{
 "cells": [
  {
   "cell_type": "code",
   "execution_count": 3,
   "id": "87b4fae1",
   "metadata": {},
   "outputs": [
    {
     "name": "stdout",
     "output_type": "stream",
     "text": [
      "Hello World!\n"
     ]
    }
   ],
   "source": [
    "print(\"Hello World!\")"
   ]
  },
  {
   "cell_type": "markdown",
   "id": "9e11789c",
   "metadata": {},
   "source": [
    "# 一级标题\n",
    "## 二级标题\n",
    "### 三级标题\n",
    "#### 四级标题\n",
    "##### 五级标题"
   ]
  },
  {
   "cell_type": "markdown",
   "id": "450d1465",
   "metadata": {},
   "source": [
    "<div class=\"alert alert-block alert-info\"> \n",
    "这是浅蓝色\n",
    "</div>\n",
    "\n",
    "<div class=\"alert alert-block alert-danger\">  \n",
    "这是浅粉色（danger）！！！\n",
    "</div>\n",
    "\n",
    "<div class=\"alert alert-block alert-success\"> \n",
    "这是浅绿色\n",
    "</div>\n",
    "\n",
    "<div class=\"alert alert-block alert-warning\">\n",
    "这是浅黄色\n",
    "</div>"
   ]
  },
  {
   "cell_type": "code",
   "execution_count": 4,
   "id": "fe306faa",
   "metadata": {},
   "outputs": [],
   "source": [
    "from IPython.core.interactiveshell import InteractiveShell\n",
    "InteractiveShell.ast_node_interactivity = \"all\"\n",
    "\n",
    "InteractiveShell.ast_node_interactivity = \"last_expr\"  # 恢复输出最后一行"
   ]
  },
  {
   "cell_type": "code",
   "execution_count": 5,
   "id": "35cfe7fa",
   "metadata": {},
   "outputs": [],
   "source": [
    "import os"
   ]
  },
  {
   "cell_type": "code",
   "execution_count": 6,
   "id": "0e6cad1b",
   "metadata": {},
   "outputs": [
    {
     "name": "stdout",
     "output_type": "stream",
     "text": [
      "/Users/yanyue/workspace/python/python-notes\n"
     ]
    },
    {
     "data": {
      "text/plain": [
       "0"
      ]
     },
     "execution_count": 6,
     "metadata": {},
     "output_type": "execute_result"
    }
   ],
   "source": [
    "os.system(\"pwd\")"
   ]
  },
  {
   "cell_type": "code",
   "execution_count": null,
   "id": "a3d42a9d",
   "metadata": {},
   "outputs": [],
   "source": []
  }
 ],
 "metadata": {
  "kernelspec": {
   "display_name": "Python 3 (ipykernel)",
   "language": "python",
   "name": "python3"
  },
  "language_info": {
   "codemirror_mode": {
    "name": "ipython",
    "version": 3
   },
   "file_extension": ".py",
   "mimetype": "text/x-python",
   "name": "python",
   "nbconvert_exporter": "python",
   "pygments_lexer": "ipython3",
   "version": "3.9.7"
  }
 },
 "nbformat": 4,
 "nbformat_minor": 5
}
